{
 "cells": [
  {
   "cell_type": "code",
   "execution_count": null,
   "id": "69d739d7-a32c-4b40-9662-804b3e3f2b34",
   "metadata": {},
   "outputs": [],
   "source": [
    "Q1."
   ]
  },
  {
   "cell_type": "code",
   "execution_count": null,
   "id": "f2ef720e-1187-4396-9608-947a0d727212",
   "metadata": {},
   "outputs": [],
   "source": [
    "An API, or Application Programming Interface, is a set of rules and protocols that allows one software application to interact with another. It defines the methods and data formats that applications can use to request and exchange information."
   ]
  },
  {
   "cell_type": "code",
   "execution_count": null,
   "id": "1a87fad3-2bf0-4585-bd52-a7a534b523de",
   "metadata": {},
   "outputs": [],
   "source": [
    "Consider an everyday scenario where you book a flight online using a travel booking website or mobile app. In this process, multiple APIs are often at work:\n",
    "Flight Search API\n",
    "Payment Gateway API\n",
    "Weather API\n",
    "Notification API"
   ]
  },
  {
   "cell_type": "code",
   "execution_count": null,
   "id": "b499dc3b-be64-4b22-9ccc-fdeea836cdef",
   "metadata": {},
   "outputs": [],
   "source": []
  },
  {
   "cell_type": "code",
   "execution_count": null,
   "id": "8ac60311-3178-450e-a6d4-e8a64a0a50cb",
   "metadata": {},
   "outputs": [],
   "source": []
  },
  {
   "cell_type": "code",
   "execution_count": null,
   "id": "34e0d0c3-7c66-4106-96d8-d0db3314e444",
   "metadata": {},
   "outputs": [],
   "source": [
    "Q2."
   ]
  },
  {
   "cell_type": "code",
   "execution_count": null,
   "id": "76b2b294-1a12-4e32-9d7a-093d335a5b87",
   "metadata": {},
   "outputs": [],
   "source": [
    "Advantages of Using APIs: APIs enable different software systems to communicate and work together. This promotes interoperability, allowing diverse applications and services to integrate seamlessly."
   ]
  },
  {
   "cell_type": "code",
   "execution_count": null,
   "id": "0e62c97d-8543-4226-880d-f32e46568e79",
   "metadata": {},
   "outputs": [],
   "source": [
    "Disadvantages of Using APIs: Relying on external APIs introduces dependencies. If an API undergoes changes or becomes unavailable, it can impact the functionality of the dependent application."
   ]
  },
  {
   "cell_type": "code",
   "execution_count": null,
   "id": "f05cfb6c-3797-4f8f-bebf-11a7def58aa8",
   "metadata": {},
   "outputs": [],
   "source": [
    " "
   ]
  },
  {
   "cell_type": "code",
   "execution_count": null,
   "id": "f77debca-8dfa-475e-8da3-27190b2b3ccf",
   "metadata": {},
   "outputs": [],
   "source": []
  },
  {
   "cell_type": "code",
   "execution_count": null,
   "id": "d9b60530-9e9f-4478-aa33-26605433c6a5",
   "metadata": {},
   "outputs": [],
   "source": [
    "Q3."
   ]
  },
  {
   "cell_type": "code",
   "execution_count": null,
   "id": "e1f4c284-7942-42f5-bf28-8b76827f59ac",
   "metadata": {},
   "outputs": [],
   "source": [
    "A Web API specifically refers to APIs that are designed to be accessed over the web using standard web protocols, such as HTTP. Web APIs enable communication and data exchange between web services or applications"
   ]
  },
  {
   "cell_type": "code",
   "execution_count": null,
   "id": "74513b2c-f330-450f-a231-9e25514f5fab",
   "metadata": {},
   "outputs": [],
   "source": [
    "API: APIs, in a general sense, can be used for interaction between any types of software components, including libraries, operating systems, databases, and more.\n",
    "Web API: Web APIs specifically deal with interactions over the web. They are designed to be accessed over standard web protocols like HTTP and are commonly used in web development."
   ]
  },
  {
   "cell_type": "code",
   "execution_count": null,
   "id": "11d67da8-d979-47d3-8ec2-38067b4835be",
   "metadata": {},
   "outputs": [],
   "source": []
  },
  {
   "cell_type": "code",
   "execution_count": null,
   "id": "3b2b38ac-bcf0-401d-b774-89cb996cbd9e",
   "metadata": {},
   "outputs": [],
   "source": []
  },
  {
   "cell_type": "code",
   "execution_count": null,
   "id": "453a74f0-86b2-473e-a2bb-ed1407a06b26",
   "metadata": {},
   "outputs": [],
   "source": [
    "Q4."
   ]
  },
  {
   "cell_type": "code",
   "execution_count": null,
   "id": "b0422827-f715-4ef0-8ef6-6dc1ca180ce2",
   "metadata": {},
   "outputs": [],
   "source": [
    "REST is an architectural style for designing networked applications. It relies on a stateless, client-server communication model where communication is achieved through standard HTTP methods (GET, POST, PUT, DELETE)."
   ]
  },
  {
   "cell_type": "code",
   "execution_count": null,
   "id": "f5a2a146-1d35-4d70-9181-a13bf13c0d75",
   "metadata": {},
   "outputs": [],
   "source": [
    "SOAP is a protocol for exchanging structured information in web services. It defines a set of rules for structuring messages and relies on XML for message format.  "
   ]
  },
  {
   "cell_type": "code",
   "execution_count": null,
   "id": "1562b38a-f305-40dc-a76a-c77706b945ca",
   "metadata": {},
   "outputs": [],
   "source": [
    "Complexity: SOAP messages are typically more complex and verbose than REST messages due to their XML-based structure.\n",
    "Performance: The XML format used by SOAP messages can result in larger message sizes compared to JSON in REST. This can impact performance, especially in bandwidth-constrained environments."
   ]
  },
  {
   "cell_type": "code",
   "execution_count": null,
   "id": "5e404acf-cd73-45b1-8a43-b24e65d84638",
   "metadata": {},
   "outputs": [],
   "source": []
  },
  {
   "cell_type": "code",
   "execution_count": null,
   "id": "117bb248-5a64-4b96-9067-3b7b7d2e2f99",
   "metadata": {},
   "outputs": [],
   "source": []
  },
  {
   "cell_type": "code",
   "execution_count": null,
   "id": "16b25572-44db-4afb-addd-aa31ecaaa66c",
   "metadata": {},
   "outputs": [],
   "source": [
    "Q5."
   ]
  },
  {
   "cell_type": "code",
   "execution_count": null,
   "id": "5043a0e5-41d7-4afe-be4b-583113d29de2",
   "metadata": {},
   "outputs": [],
   "source": [
    "REST (Representational State Transfer):\n",
    "REST is stateless, meaning that each request from a client to a server contains all the information needed to understand and fulfill the request. The server does not store any state about the client between requests.\n",
    "HTTP Methods: RESTful APIs use standard HTTP methods (GET, POST, PUT, DELETE) for communication. The HTTP status codes indicate the result of the operation"
   ]
  },
  {
   "cell_type": "code",
   "execution_count": null,
   "id": "7ebd00d8-7a99-4782-96d6-3f83ef832cad",
   "metadata": {},
   "outputs": [],
   "source": [
    "SOAP (Simple Object Access Protocol):\n",
    "Stateful or Stateless: SOAP supports both stateful and stateless communication. It allows for the creation of stateful services through additional specifications.\n",
    "While SOAP is often associated with HTTP, it can be used over various protocols, including HTTP, SMTP, and others."
   ]
  },
  {
   "cell_type": "code",
   "execution_count": null,
   "id": "57f6dc55-28ef-4037-8bf2-937783b8aaa1",
   "metadata": {},
   "outputs": [],
   "source": []
  },
  {
   "cell_type": "code",
   "execution_count": null,
   "id": "dc0ba519-174a-4d11-8058-1c82980e8435",
   "metadata": {},
   "outputs": [],
   "source": []
  },
  {
   "cell_type": "code",
   "execution_count": null,
   "id": "2a3caae3-2b0c-4f71-a0c7-723efaffd796",
   "metadata": {},
   "outputs": [],
   "source": []
  },
  {
   "cell_type": "code",
   "execution_count": null,
   "id": "60fe656f-c72f-45c3-b2a0-f9900f492439",
   "metadata": {},
   "outputs": [],
   "source": []
  },
  {
   "cell_type": "code",
   "execution_count": null,
   "id": "4d194d1e-3de6-4627-a8b2-488e1884ec37",
   "metadata": {},
   "outputs": [],
   "source": []
  }
 ],
 "metadata": {
  "kernelspec": {
   "display_name": "Python 3 (ipykernel)",
   "language": "python",
   "name": "python3"
  },
  "language_info": {
   "codemirror_mode": {
    "name": "ipython",
    "version": 3
   },
   "file_extension": ".py",
   "mimetype": "text/x-python",
   "name": "python",
   "nbconvert_exporter": "python",
   "pygments_lexer": "ipython3",
   "version": "3.10.8"
  }
 },
 "nbformat": 4,
 "nbformat_minor": 5
}
